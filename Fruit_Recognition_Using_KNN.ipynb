{
 "cells": [
  {
   "cell_type": "markdown",
   "metadata": {},
   "source": [
    "# Fruit Recognition System"
   ]
  },
  {
   "cell_type": "code",
   "execution_count": 2,
   "metadata": {},
   "outputs": [],
   "source": [
    "import cv2\n",
    "import numpy as np\n",
    "import matplotlib.pyplot as plt\n",
    "import matplotlib\n",
    "import glob\n",
    "import pandas as pd\n",
    "from skimage.color import rgb2gray\n",
    "from skimage.transform import rescale, resize, downscale_local_mean\n",
    "from sklearn.model_selection import train_test_split\n",
    "from skimage import data, color, feature\n",
    "from skimage.feature import hog\n",
    "from random import seed\n",
    "from random import randint\n",
    "from sklearn.neighbors import KNeighborsClassifier\n",
    "from sklearn.metrics import accuracy_score"
   ]
  },
  {
   "cell_type": "markdown",
   "metadata": {},
   "source": [
    "# Import Dataset"
   ]
  },
  {
   "cell_type": "markdown",
   "metadata": {},
   "source": [
    "We have two folders for Training and Testing of Fruits containing 15 different fruits."
   ]
  },
  {
   "cell_type": "code",
   "execution_count": 3,
   "metadata": {},
   "outputs": [],
   "source": [
    "Data_Train = \"F:\\Training\"\n",
    "Data_Test = \"F:\\Testing\""
   ]
  },
  {
   "cell_type": "markdown",
   "metadata": {},
   "source": [
    "# Load Dataset"
   ]
  },
  {
   "cell_type": "code",
   "execution_count": 4,
   "metadata": {},
   "outputs": [],
   "source": [
    "def load_dataset(fruit_name, data_type):\n",
    "    label=[]\n",
    "    data = []\n",
    "    \n",
    "    if data_type=='Training':\n",
    "        strr = \"F:/Training/\"+fruit_name+ \"/*\"\n",
    "        for file_ in glob.glob(strr):\n",
    "            img = cv2.imread(file_)\n",
    "            img = cv2.cvtColor(img, cv2.COLOR_BGR2RGB)\n",
    "            data.append(img)\n",
    "            label.append(fruit_name)\n",
    "            \n",
    "    elif data_type=='Testing':\n",
    "        strr = \"F:/Testing/\"+fruit_name+ \"/*\"\n",
    "        for file_ in glob.glob(strr):\n",
    "            img = cv2.imread(file_)\n",
    "            img = cv2.cvtColor(img, cv2.COLOR_BGR2RGB)\n",
    "            data.append(img)\n",
    "            label.append(fruit_name)\n",
    "    return data,label"
   ]
  },
  {
   "cell_type": "markdown",
   "metadata": {},
   "source": [
    "\n",
    "# Train Dataset"
   ]
  },
  {
   "cell_type": "code",
   "execution_count": 5,
   "metadata": {},
   "outputs": [],
   "source": [
    "def train_data(data_type):\n",
    "    apple_data, apple_label = load_dataset('Apple', data_type)\n",
    "    banana_data, banana_label = load_dataset('Banana', data_type)\n",
    "    guava_data, guava_label = load_dataset('Guava', data_type)\n",
    "    kiwi_data, kiwi_label = load_dataset('Kiwi', data_type)\n",
    "    lychee_data, lychee_label = load_dataset('Lychee', data_type)\n",
    "    mango_data, mango_label = load_dataset('Mango', data_type)\n",
    "    orange_data, orange_label = load_dataset('Orange', data_type)\n",
    "    papaya_data, papaya_label = load_dataset('Papaya', data_type)\n",
    "    peach_data, peach_label = load_dataset('Peach', data_type)\n",
    "    pear_data, pear_label = load_dataset('Pear', data_type)\n",
    "    pineapple_data, pineapple_label = load_dataset('Pineapple', data_type)\n",
    "    plum_data, plum_label = load_dataset('Plum', data_type)\n",
    "    pomegranate_data, pomegranate_label = load_dataset('Pomegranate', data_type)\n",
    "    strawberry_data, strawberry_label = load_dataset('Strawberry', data_type)\n",
    "    data =np.concatenate((apple_data, banana_data, guava_data, kiwi_data, lychee_data, mango_data, orange_data, papaya_data, peach_data, pear_data, pineapple_data, pomegranate_data,strawberry_data))\n",
    "    label =np.concatenate((apple_label, banana_label, guava_label, kiwi_label, lychee_label, mango_label, orange_label, papaya_label, peach_label, pear_label, pineapple_label, pomegranate_label,strawberry_label))\n",
    "    return data, label"
   ]
  },
  {
   "cell_type": "code",
   "execution_count": 6,
   "metadata": {},
   "outputs": [
    {
     "name": "stdout",
     "output_type": "stream",
     "text": [
      "(6347, 100, 100, 3) (6347,)\n"
     ]
    }
   ],
   "source": [
    "trained_data, trained_labels = train_data('Training')\n",
    "tested_data, tested_labels = train_data('Testing')\n",
    "print(trained_data.shape, trained_labels.shape)"
   ]
  },
  {
   "cell_type": "markdown",
   "metadata": {},
   "source": [
    "# Preprocessing Part 1"
   ]
  },
  {
   "cell_type": "code",
   "execution_count": 7,
   "metadata": {},
   "outputs": [],
   "source": [
    "def preprocessing_part1(data):\n",
    "    prep_data=[]\n",
    "    for i in range(data.shape[0]):\n",
    "        img=cv2.cvtColor(data[i], cv2.COLOR_BGR2GRAY)\n",
    "        img=resize(img, (72, 72), anti_aliasing=True)\n",
    "        prep_data.append(img)\n",
    "    return prep_data"
   ]
  },
  {
   "cell_type": "code",
   "execution_count": 8,
   "metadata": {},
   "outputs": [],
   "source": [
    "preprocessed_data_train = preprocessing_part1(trained_data)\n",
    "preprocessed_data_test = preprocessing_part1(tested_data)"
   ]
  },
  {
   "cell_type": "markdown",
   "metadata": {},
   "source": [
    "# Preprocessing Part 2"
   ]
  },
  {
   "cell_type": "code",
   "execution_count": 9,
   "metadata": {},
   "outputs": [],
   "source": [
    "def Extract_Histogram(img):\n",
    "    hist,_= hog(img, orientations=8, pixels_per_cell=(16, 16), cells_per_block=(1, 1), visualize=True, multichannel=False)\n",
    "    return hist\n",
    "  \n",
    "def preprocessing_part2(data):\n",
    "    data_features=[]\n",
    "    for val in range(np.shape(data)[0]):\n",
    "        data_features.append(Extract_Histogram(data[val])) \n",
    "    return data_features"
   ]
  },
  {
   "cell_type": "code",
   "execution_count": 10,
   "metadata": {},
   "outputs": [],
   "source": [
    "preprocessed_data_train = preprocessing_part2(preprocessed_data_train)\n",
    "preprocessed_data_test= preprocessing_part2(preprocessed_data_test)"
   ]
  },
  {
   "cell_type": "markdown",
   "metadata": {},
   "source": [
    "# KNN Classification"
   ]
  },
  {
   "cell_type": "code",
   "execution_count": 11,
   "metadata": {},
   "outputs": [
    {
     "data": {
      "text/plain": [
       "KNeighborsClassifier(algorithm='auto', leaf_size=30, metric='minkowski',\n",
       "                     metric_params=None, n_jobs=-1, n_neighbors=9, p=2,\n",
       "                     weights='distance')"
      ]
     },
     "execution_count": 11,
     "metadata": {},
     "output_type": "execute_result"
    }
   ],
   "source": [
    "knn_clf = KNeighborsClassifier(n_jobs=-1, weights='distance', n_neighbors=9)\n",
    "knn_clf.fit(preprocessed_data_train, trained_labels)"
   ]
  },
  {
   "cell_type": "code",
   "execution_count": 12,
   "metadata": {},
   "outputs": [],
   "source": [
    "y_knn_pred = knn_clf.predict(preprocessed_data_test)"
   ]
  },
  {
   "cell_type": "markdown",
   "metadata": {},
   "source": [
    "# Accuracy"
   ]
  },
  {
   "cell_type": "code",
   "execution_count": 13,
   "metadata": {},
   "outputs": [
    {
     "name": "stdout",
     "output_type": "stream",
     "text": [
      "92.47355573637104 %\n"
     ]
    }
   ],
   "source": [
    "print(accuracy_score(tested_labels, y_knn_pred)*100,'%')"
   ]
  },
  {
   "cell_type": "code",
   "execution_count": 14,
   "metadata": {},
   "outputs": [],
   "source": [
    "def show_results(img, name):\n",
    "    plt.axis(\"off\")\n",
    "    plt.title(name)\n",
    "    plt.imshow(img)\n",
    "    plt.show()"
   ]
  },
  {
   "cell_type": "markdown",
   "metadata": {},
   "source": [
    "# Result"
   ]
  },
  {
   "cell_type": "code",
   "execution_count": 15,
   "metadata": {},
   "outputs": [
    {
     "data": {
      "image/png": "[encoded data removed]",
      "text/plain": [
       "<Figure size 432x288 with 1 Axes>"
      ]
     },
     "metadata": {
      "needs_background": "light"
     },
     "output_type": "display_data"
    }
   ],
   "source": [
    "x_ = randint(0, tested_data.shape[0])\n",
    "show_results(tested_data[x_], y_knn_pred[x_])"
   ]
  },
  {
   "cell_type": "code",
   "execution_count": null,
   "metadata": {},
   "outputs": [],
   "source": []
  }
 ],
 "metadata": {
  "kernelspec": {
   "display_name": "Python 3",
   "language": "python",
   "name": "python3"
  },
  "language_info": {
   "codemirror_mode": {
    "name": "ipython",
    "version": 3
   },
   "file_extension": ".py",
   "mimetype": "text/x-python",
   "name": "python",
   "nbconvert_exporter": "python",
   "pygments_lexer": "ipython3",
   "version": "3.7.4"
  }
 },
 "nbformat": 4,
 "nbformat_minor": 2
}
